{
 "cells": [
  {
   "cell_type": "code",
   "execution_count": 17,
   "id": "32a88f23",
   "metadata": {},
   "outputs": [],
   "source": [
    "import pandas as pd\n",
    "import re"
   ]
  },
  {
   "cell_type": "code",
   "execution_count": 157,
   "id": "f2872359",
   "metadata": {},
   "outputs": [],
   "source": [
    "import re"
   ]
  },
  {
   "cell_type": "code",
   "execution_count": 162,
   "id": "220eb92d",
   "metadata": {},
   "outputs": [],
   "source": [
    "def texto_a_lista_de_filas(text):\n",
    "    texto_nuevo = \"\".join(text[4:])\n",
    "    filas = texto_nuevo.split(\".\")\n",
    "\n",
    "    filas = list(map(lambda x : re.sub(r\"\\s{3,}\", \" #\", x).strip().split('#'), filas ))\n",
    "    filas_bien = []\n",
    "    for e in filas:\n",
    "        \n",
    "        if len(e)<2:\n",
    "            filas.remove(e)\n",
    "            continue\n",
    "        \n",
    "        e.pop(0)\n",
    "        \n",
    "        filas_bien.append([e[0].strip(), e[1].strip(), e[2].rstrip(\" %\").replace(\",\", \".\"), re.sub( r\"\\s{2,}\",\" \",''.join(e[3:]))])\n",
    "    return filas_bien\n"
   ]
  },
  {
   "cell_type": "code",
   "execution_count": 167,
   "id": "c011f773",
   "metadata": {},
   "outputs": [
    {
     "name": "stdout",
     "output_type": "stream",
     "text": [
      "<class 'pandas.core.frame.DataFrame'>\n",
      "RangeIndex: 13 entries, 0 to 12\n",
      "Data columns (total 4 columns):\n",
      " #   Column                        Non-Null Count  Dtype  \n",
      "---  ------                        --------------  -----  \n",
      " 0   cluster                       13 non-null     int64  \n",
      " 1   cantidad_de_palabras_clave    13 non-null     int64  \n",
      " 2   porcentaje_de_palabras_clave  13 non-null     float64\n",
      " 3   principales_palabras_clave    13 non-null     object \n",
      "dtypes: float64(1), int64(2), object(1)\n",
      "memory usage: 548.0+ bytes\n"
     ]
    }
   ],
   "source": [
    "with open(\"../files/input/clusters_report.txt\", \"r\") as file:\n",
    "        text = file.readlines()\n",
    "        titulo1 = re.sub(r\"\\s{2,}\", \"#\", text[0]).strip().split('#')\n",
    "        titulo2 = re.sub(r\"\\s{2,}\", \"#\", text[1]).strip().split('#')\n",
    "\n",
    "        encabezado = [titulo1[0], titulo1[1]+\" \"+titulo2[1], titulo1[2]+\" \"+titulo2[2], titulo1[3]]\n",
    "        encabezado = list(map(lambda x: x.lower().replace(\" \",\"_\"), encabezado))\n",
    "\n",
    "        filas = texto_a_lista_de_filas(text)\n",
    "        \n",
    "        df = pd.DataFrame(filas, columns=encabezado)\n",
    "df['cluster'] = df['cluster'].astype(int)\n",
    "df['cantidad_de_palabras_clave'] = df['cantidad_de_palabras_clave'].astype(int)\n",
    "df['porcentaje_de_palabras_clave'] = df['porcentaje_de_palabras_clave'].astype(float)\n",
    "\n",
    "\n",
    "df.info()"
   ]
  }
 ],
 "metadata": {
  "kernelspec": {
   "display_name": ".venv",
   "language": "python",
   "name": "python3"
  },
  "language_info": {
   "codemirror_mode": {
    "name": "ipython",
    "version": 3
   },
   "file_extension": ".py",
   "mimetype": "text/x-python",
   "name": "python",
   "nbconvert_exporter": "python",
   "pygments_lexer": "ipython3",
   "version": "3.13.2"
  }
 },
 "nbformat": 4,
 "nbformat_minor": 5
}
